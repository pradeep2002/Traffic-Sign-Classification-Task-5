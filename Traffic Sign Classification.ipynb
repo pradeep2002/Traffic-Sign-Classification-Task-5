{
 "cells": [
  {
   "cell_type": "code",
   "execution_count": 1,
   "metadata": {},
   "outputs": [],
   "source": [
    "import numpy as np\n",
    "import cv2\n",
    "import os\n",
    "from sklearn.model_selection import train_test_split\n",
    "import matplotlib.pyplot as plt\n",
    "from keras.preprocessing.image import ImageDataGenerator\n",
    "from keras.utils.np_utils import to_categorical\n",
    "from keras.models import Sequential\n",
    "from keras.layers import Dense\n",
    "from tensorflow.keras.optimizers import Adam\n",
    "from keras.layers import Dropout,Flatten\n",
    "from keras.layers.convolutional import Conv2D,MaxPooling2D\n",
    "import pickle"
   ]
  },
  {
   "cell_type": "code",
   "execution_count": 2,
   "metadata": {},
   "outputs": [],
   "source": [
    "path = '/home/pradeep/Speed limit datasets'\n",
    "testRatio = 0.2\n",
    "valRatio = 0.2\n",
    "imageDimensions= (60,60,3)\n",
    "batchSizeVal= 50\n",
    "epochsVal = 10\n"
   ]
  },
  {
   "cell_type": "code",
   "execution_count": 3,
   "metadata": {},
   "outputs": [
    {
     "name": "stdout",
     "output_type": "stream",
     "text": [
      "Total Classes Detected: 9\n"
     ]
    }
   ],
   "source": [
    "count = 0\n",
    "images = []     # LIST CONTAINING ALL THE IMAGES\n",
    "classNo = []    # LIST CONTAINING ALL THE CORRESPONDING CLASS ID OF IMAGES\n",
    "myList = os.listdir(path)\n",
    "print(\"Total Classes Detected:\",len(myList))\n",
    "noOfClasses = len(myList)"
   ]
  },
  {
   "cell_type": "code",
   "execution_count": 4,
   "metadata": {},
   "outputs": [
    {
     "name": "stdout",
     "output_type": "stream",
     "text": [
      "Total Classes Detected: 9\n",
      "Importing Classes .......\n",
      "0 1 2 3 4 5 6 7 8  \n",
      "Total Images in Images List =  3142\n",
      "Total IDS in classNo List=  3142\n"
     ]
    }
   ],
   "source": [
    "count = 0\n",
    "images = []     # LIST CONTAINING ALL THE IMAGES\n",
    "classNo = []    # LIST CONTAINING ALL THE CORRESPONDING CLASS ID OF IMAGES\n",
    "myList = os.listdir(path)\n",
    "print(\"Total Classes Detected:\",len(myList))\n",
    "noOfClasses = len(myList)\n",
    "# print(myList)\n",
    "print(\"Importing Classes .......\")\n",
    "for x in range(0,9):\n",
    "    myPicList = os.listdir(path+\"/\"+str(x))\n",
    "#     print(myPicList)\n",
    "    for y in myPicList:\n",
    "        curImg = cv2.imread(path+\"/\"+str(x)+\"/\"+y)\n",
    "        curImg = cv2.resize(curImg,(60,60))\n",
    "        images.append(curImg)\n",
    "        classNo.append(x)\n",
    "    print(x,end= \" \")\n",
    "print(\" \")\n",
    "print(\"Total Images in Images List = \",len(images))\n",
    "print(\"Total IDS in classNo List= \",len(classNo))"
   ]
  },
  {
   "cell_type": "code",
   "execution_count": 5,
   "metadata": {},
   "outputs": [
    {
     "name": "stdout",
     "output_type": "stream",
     "text": [
      "(3142, 60, 60, 3)\n",
      "(2010, 60, 60, 3)\n",
      "(629, 60, 60, 3)\n",
      "(503, 60, 60, 3)\n"
     ]
    }
   ],
   "source": [
    "images = np.array(images)\n",
    "classNo = np.array(classNo)\n",
    "print(images.shape)\n",
    "\n",
    "# SPLITTING THE DATA\n",
    "X_train,X_test,y_train,y_test = train_test_split(images,classNo,test_size=testRatio)\n",
    "X_train,X_validation,y_train,y_validation = train_test_split(X_train,y_train,test_size=valRatio)\n",
    "print(X_train.shape)\n",
    "print(X_test.shape)\n",
    "print(X_validation.shape)"
   ]
  },
  {
   "cell_type": "code",
   "execution_count": 6,
   "metadata": {},
   "outputs": [
    {
     "name": "stdout",
     "output_type": "stream",
     "text": [
      "[144, 206, 204, 199, 213, 265, 274, 202, 303]\n"
     ]
    },
    {
     "data": {
      "image/png": "[encoded data removed]",
      "text/plain": [
       "<Figure size 720x360 with 1 Axes>"
      ]
     },
     "metadata": {},
     "output_type": "display_data"
    }
   ],
   "source": [
    "numOfSamples= []\n",
    "for x in range(0,noOfClasses):\n",
    "    #print(len(np.where(y_train==x)[0]))\n",
    "    numOfSamples.append(len(np.where(y_train==x)[0]))\n",
    "print(numOfSamples)\n",
    "\n",
    "plt.figure(figsize=(10,5))\n",
    "plt.bar(range(0,noOfClasses),numOfSamples)\n",
    "plt.title(\"No of Images for each Class\")\n",
    "plt.xlabel(\"Class ID\")\n",
    "plt.ylabel(\"Number of Images\")\n",
    "plt.show()"
   ]
  },
  {
   "cell_type": "code",
   "execution_count": 7,
   "metadata": {},
   "outputs": [],
   "source": [
    "\n",
    "def preProcessing(img):\n",
    "    img = cv2.cvtColor(img,cv2.COLOR_BGR2GRAY)\n",
    "    img = cv2.equalizeHist(img)\n",
    "    img = img/255\n",
    "    return img\n",
    "\n",
    "X_train= np.array(list(map(preProcessing,X_train)))\n",
    "X_test= np.array(list(map(preProcessing,X_test)))\n",
    "X_validation= np.array(list(map(preProcessing,X_validation)))"
   ]
  },
  {
   "cell_type": "code",
   "execution_count": 8,
   "metadata": {},
   "outputs": [],
   "source": [
    "X_train = X_train.reshape(X_train.shape[0],X_train.shape[1],X_train.shape[2],1)\n",
    "X_test = X_test.reshape(X_test.shape[0],X_test.shape[1],X_test.shape[2],1)\n",
    "X_validation = X_validation.reshape(X_validation.shape[0],X_validation.shape[1],X_validation.shape[2],1)"
   ]
  },
  {
   "cell_type": "code",
   "execution_count": 9,
   "metadata": {},
   "outputs": [],
   "source": [
    "dataGen = ImageDataGenerator(width_shift_range=0.1,\n",
    "                             height_shift_range=0.1,\n",
    "                             zoom_range=0.2,\n",
    "                             shear_range=0.1,\n",
    "                             rotation_range=10)\n",
    "dataGen.fit(X_train)\n"
   ]
  },
  {
   "cell_type": "code",
   "execution_count": 10,
   "metadata": {},
   "outputs": [],
   "source": [
    "y_train = to_categorical(y_train,noOfClasses)\n",
    "y_test = to_categorical(y_test,noOfClasses)\n",
    "y_validation = to_categorical(y_validation,noOfClasses)"
   ]
  },
  {
   "cell_type": "code",
   "execution_count": 11,
   "metadata": {},
   "outputs": [
    {
     "name": "stdout",
     "output_type": "stream",
     "text": [
      "Model: \"sequential\"\n",
      "_________________________________________________________________\n",
      "Layer (type)                 Output Shape              Param #   \n",
      "=================================================================\n",
      "conv2d (Conv2D)              (None, 56, 56, 60)        1560      \n",
      "_________________________________________________________________\n",
      "conv2d_1 (Conv2D)            (None, 52, 52, 60)        90060     \n",
      "_________________________________________________________________\n",
      "max_pooling2d (MaxPooling2D) (None, 26, 26, 60)        0         \n",
      "_________________________________________________________________\n",
      "conv2d_2 (Conv2D)            (None, 24, 24, 30)        16230     \n",
      "_________________________________________________________________\n",
      "conv2d_3 (Conv2D)            (None, 22, 22, 30)        8130      \n",
      "_________________________________________________________________\n",
      "max_pooling2d_1 (MaxPooling2 (None, 11, 11, 30)        0         \n",
      "_________________________________________________________________\n",
      "dropout (Dropout)            (None, 11, 11, 30)        0         \n",
      "_________________________________________________________________\n",
      "flatten (Flatten)            (None, 3630)              0         \n",
      "_________________________________________________________________\n",
      "dense (Dense)                (None, 500)               1815500   \n",
      "_________________________________________________________________\n",
      "dropout_1 (Dropout)          (None, 500)               0         \n",
      "_________________________________________________________________\n",
      "dense_1 (Dense)              (None, 9)                 4509      \n",
      "=================================================================\n",
      "Total params: 1,935,989\n",
      "Trainable params: 1,935,989\n",
      "Non-trainable params: 0\n",
      "_________________________________________________________________\n",
      "None\n"
     ]
    },
    {
     "name": "stderr",
     "output_type": "stream",
     "text": [
      "/home/pradeep/.local/lib/python3.6/site-packages/keras/optimizer_v2/optimizer_v2.py:356: UserWarning: The `lr` argument is deprecated, use `learning_rate` instead.\n",
      "  \"The `lr` argument is deprecated, use `learning_rate` instead.\")\n"
     ]
    }
   ],
   "source": [
    "def myModel():\n",
    "    noOfFilters = 60\n",
    "    sizeOfFilter1 = (5,5)\n",
    "    sizeOfFilter2 = (3, 3)\n",
    "    sizeOfPool = (2,2)\n",
    "    noOfNodes= 500\n",
    "\n",
    "    model = Sequential()\n",
    "    model.add((Conv2D(noOfFilters,sizeOfFilter1,input_shape=(imageDimensions[0],\n",
    "                      imageDimensions[1],1),activation='relu')))\n",
    "    model.add((Conv2D(noOfFilters, sizeOfFilter1, activation='relu')))\n",
    "    model.add(MaxPooling2D(pool_size=sizeOfPool))\n",
    "    model.add((Conv2D(noOfFilters//2, sizeOfFilter2, activation='relu')))\n",
    "    model.add((Conv2D(noOfFilters//2, sizeOfFilter2, activation='relu')))\n",
    "    model.add(MaxPooling2D(pool_size=sizeOfPool))\n",
    "    model.add(Dropout(0.5))\n",
    "\n",
    "    model.add(Flatten())\n",
    "    model.add(Dense(noOfNodes,activation='relu'))\n",
    "    model.add(Dropout(0.5))\n",
    "    model.add(Dense(noOfClasses, activation='softmax'))\n",
    "\n",
    "    model.compile(Adam(lr=0.001),loss='categorical_crossentropy',metrics=['accuracy'])\n",
    "    return model\n",
    "\n",
    "model = myModel()\n",
    "print(model.summary())"
   ]
  },
  {
   "cell_type": "code",
   "execution_count": 12,
   "metadata": {},
   "outputs": [
    {
     "name": "stderr",
     "output_type": "stream",
     "text": [
      "/home/pradeep/.local/lib/python3.6/site-packages/keras/engine/training.py:1972: UserWarning: `Model.fit_generator` is deprecated and will be removed in a future version. Please use `Model.fit`, which supports generators.\n",
      "  warnings.warn('`Model.fit_generator` is deprecated and '\n"
     ]
    },
    {
     "name": "stdout",
     "output_type": "stream",
     "text": [
      "Epoch 1/10\n",
      "41/41 [==============================] - 48s 1s/step - loss: 2.0677 - accuracy: 0.2418 - val_loss: 1.4584 - val_accuracy: 0.5427\n",
      "Epoch 2/10\n",
      "41/41 [==============================] - 46s 1s/step - loss: 1.5422 - accuracy: 0.4682 - val_loss: 0.9340 - val_accuracy: 0.7356\n",
      "Epoch 3/10\n",
      "41/41 [==============================] - 51s 1s/step - loss: 1.1714 - accuracy: 0.5910 - val_loss: 0.6000 - val_accuracy: 0.7873\n",
      "Epoch 4/10\n",
      "41/41 [==============================] - 50s 1s/step - loss: 0.9744 - accuracy: 0.6637 - val_loss: 0.5876 - val_accuracy: 0.8231\n",
      "Epoch 5/10\n",
      "41/41 [==============================] - 50s 1s/step - loss: 0.8409 - accuracy: 0.7060 - val_loss: 0.4556 - val_accuracy: 0.8350\n",
      "Epoch 6/10\n",
      "41/41 [==============================] - 50s 1s/step - loss: 0.7425 - accuracy: 0.7274 - val_loss: 0.3454 - val_accuracy: 0.9085\n",
      "Epoch 7/10\n",
      "41/41 [==============================] - 50s 1s/step - loss: 0.6837 - accuracy: 0.7448 - val_loss: 0.3139 - val_accuracy: 0.9245\n",
      "Epoch 8/10\n",
      "41/41 [==============================] - 50s 1s/step - loss: 0.6551 - accuracy: 0.7652 - val_loss: 0.2505 - val_accuracy: 0.9245\n",
      "Epoch 9/10\n",
      "41/41 [==============================] - 50s 1s/step - loss: 0.5457 - accuracy: 0.8025 - val_loss: 0.1868 - val_accuracy: 0.9742\n",
      "Epoch 10/10\n",
      "41/41 [==============================] - 50s 1s/step - loss: 0.4556 - accuracy: 0.8398 - val_loss: 0.1704 - val_accuracy: 0.9761\n"
     ]
    }
   ],
   "source": [
    "history = model.fit_generator(dataGen.flow(X_train,y_train,\n",
    "                                 batch_size=batchSizeVal),\n",
    "                                 epochs=epochsVal,\n",
    "                                 validation_data=(X_validation,y_validation),\n",
    "                                 shuffle=1)"
   ]
  },
  {
   "cell_type": "code",
   "execution_count": 13,
   "metadata": {},
   "outputs": [
    {
     "name": "stdout",
     "output_type": "stream",
     "text": [
      "20/20 [==============================] - 3s 161ms/step - loss: 0.1817 - accuracy: 0.9634\n",
      "Saving the model as model.h5\n"
     ]
    }
   ],
   "source": [
    "model.metrics_names\n",
    "model.evaluate(X_test,y_test)\n",
    "model.save('model.h5')\n",
    "print(\"Saving the model as model.h5\")"
   ]
  },
  {
   "cell_type": "code",
   "execution_count": 16,
   "metadata": {},
   "outputs": [
    {
     "name": "stdout",
     "output_type": "stream",
     "text": [
      "Sign is predicted as 80 km/h\n"
     ]
    },
    {
     "data": {
      "image/png": "[encoded data removed]",
      "text/plain": [
       "<Figure size 432x288 with 1 Axes>"
      ]
     },
     "metadata": {},
     "output_type": "display_data"
    }
   ],
   "source": [
    "\n",
    "img = cv2.imread('/home/pradeep/Music/2.jpg',cv2.IMREAD_GRAYSCALE)\n",
    "plt.imshow(img,cmap ='gray')\n",
    "\n",
    "img = cv2.equalizeHist(img)\n",
    "img = img/255\n",
    "img = cv2.resize(img,(60,60))\n",
    "\n",
    "img = img.reshape(1,60,60,1)\n",
    "predict_x=model.predict(img) \n",
    "classIndex=np.argmax(predict_x,axis=1)\n",
    "\n",
    "if classIndex == 0:\n",
    "    print('Sign is predicted as 20 km/h')\n",
    "if classIndex == 1:\n",
    "    print('Sign is predicted as 30 km/h')\n",
    "if classIndex == 2:\n",
    "    print('Sign is predicted as 50 km/h')\n",
    "if classIndex == 3:\n",
    "    print('Sign is predicted as 80 km/h')\n",
    "if classIndex == 4:\n",
    "    print('Sign is predicted as 100 km/h')\n",
    "if classIndex == 5:\n",
    "    print('Sign is predicted as NO HORN')\n",
    "if classIndex == 6:\n",
    "    print('Sign is predicted as GO STRAIGHT')\n",
    "if classIndex == 7:\n",
    "    print('Sign is predicted as TURN LEFT')\n",
    "if classIndex == 8:\n",
    "    print('Sign is predicted as TURN RIGHT')\n",
    "    \n"
   ]
  },
  {
   "cell_type": "code",
   "execution_count": null,
   "metadata": {},
   "outputs": [],
   "source": []
  }
 ],
 "metadata": {
  "kernelspec": {
   "display_name": "Python 3",
   "language": "python",
   "name": "python3"
  },
  "language_info": {
   "codemirror_mode": {
    "name": "ipython",
    "version": 3
   },
   "file_extension": ".py",
   "mimetype": "text/x-python",
   "name": "python",
   "nbconvert_exporter": "python",
   "pygments_lexer": "ipython3",
   "version": "3.6.9"
  }
 },
 "nbformat": 4,
 "nbformat_minor": 2
}
